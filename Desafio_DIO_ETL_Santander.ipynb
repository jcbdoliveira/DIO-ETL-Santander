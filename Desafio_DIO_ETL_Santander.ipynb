{
  "nbformat": 4,
  "nbformat_minor": 0,
  "metadata": {
    "colab": {
      "provenance": [],
      "include_colab_link": true
    },
    "kernelspec": {
      "name": "python3",
      "display_name": "Python 3"
    },
    "language_info": {
      "name": "python"
    }
  },
  "cells": [
    {
      "cell_type": "markdown",
      "metadata": {
        "id": "view-in-github",
        "colab_type": "text"
      },
      "source": [
        "<a href=\"https://colab.research.google.com/github/jcbdoliveira/DIO-ETL-Santander/blob/main/Desafio_DIO_ETL_Santander.ipynb\" target=\"_parent\"><img src=\"https://colab.research.google.com/assets/colab-badge.svg\" alt=\"Open In Colab\"/></a>"
      ]
    },
    {
      "cell_type": "markdown",
      "source": [
        "# Desafio DIO Santander Bootcamp (ETL com Python)\n",
        "\n",
        "\n"
      ],
      "metadata": {
        "id": "BPJQsTCULaC-"
      }
    },
    {
      "cell_type": "markdown",
      "source": [
        "**Contexto:** Você é um cientista de dados no Santander e recebeu a tarefa de somar os pontos conquistados pelos clientes. Seu objetivo é usar o Python para ler três arquivos CSV, identificar as transações de cada cliente e somar os pontos obtidos. Depois você deve usar poder da IA Generativa para criar mensagens personalizadas que serão entregues a cada cliente. Se o cliente possuir mais de 100 pontos deve ser uma mensagem de parabéns, se estiver entre 80 e 99, deve ser uma mensagem de \"quase lá\", se estiver entre 20 e 79, a mensagem deve ser de incetivo, mas se estiver abaixo de 20 a mensagem deve demonstrar as qualidades do banco e convidar o cliente para utilizar mais serviços.\n",
        "Cada mensagem vai ser entregue por e-mail para o cliente.\n",
        "\n",
        "**Condições do Problema:**\n",
        "\n",
        "1. Você recebeu os arquivos:\n",
        "users.csv\n",
        "transactions.csv\n",
        "transaction_types.csv\n",
        "  ```\n",
        "2. O trabalho começa lendo os dados e relacionando as informações.\n",
        "3. Na sequencia apuramos os pontos que cada cliente conquistou e armazenamos dentro de uma nova coluna.\n",
        "4. Consumimos a API do chatGPT e armazemanos as mensagems dentro do dataframe.\n",
        "5. Por fim lemos o nosso dataframe final e enviamos os e-mails personalizados.\n"
      ],
      "metadata": {
        "id": "k5fA5OrXt1a3"
      }
    },
    {
      "cell_type": "code",
      "source": [
        "usuarios = 'users.csv'\n",
        "extrato = 'transactions.csv'\n",
        "pontos = 'transaction_types.csv'"
      ],
      "metadata": {
        "id": "FKqLC_CWoYqR"
      },
      "execution_count": 17,
      "outputs": []
    },
    {
      "cell_type": "markdown",
      "source": [
        "## **E**xtract\n",
        "\n",
        "Ler e extrair os dados dos arquivos e carregar dentro dos dataframes."
      ],
      "metadata": {
        "id": "9dfI-o7gLRq9"
      }
    },
    {
      "cell_type": "code",
      "execution_count": 18,
      "metadata": {
        "id": "NYydpX_GLRCB",
        "colab": {
          "base_uri": "https://localhost:8080/"
        },
        "outputId": "632404f2-fb7d-46fe-b374-6d4cfb4741eb"
      },
      "outputs": [
        {
          "output_type": "stream",
          "name": "stdout",
          "text": [
            "                 user_name                   user_email  pontos mensagem_email\n",
            "user_id                                                                       \n",
            "1              Julio Cesar  julio@adminformatica.com.br       0               \n",
            "3        Venilton Falvo Jr                ***@gmail.com       0               \n",
            "2              Julio Gmail        jcboliveira@gmail.com       0               \n",
            "   user_id  transaction_id transaction_type    value\n",
            "0        1            1001               A1   100.00\n",
            "1        1            1002               A1    50.00\n",
            "2        1            1003               A5  1000.00\n",
            "3        1            1004               A3    50.92\n",
            "4        1            1005               A1   100.00\n",
            "  transaction_type  points\n",
            "0               A1       1\n",
            "1               A2       2\n",
            "2               A3       3\n",
            "3               A4       4\n",
            "4               A5       5\n",
            "1 Julio Cesar 20 \n",
            "3 Venilton Falvo Jr 32 \n",
            "2 Julio Gmail 145 \n"
          ]
        }
      ],
      "source": [
        "import pandas as pd\n",
        "import numpy as np\n",
        "\n",
        "dfUsusarios = pd.read_csv(usuarios, sep=';', header=0, index_col='user_id')\n",
        "dfExtrato = pd.read_csv(extrato, sep=';', header=0)\n",
        "dfPontos = pd.read_csv(pontos, sep=';', header=0)\n",
        "dfUsusarios['pontos'] = 0\n",
        "dfUsusarios['mensagem_email'] = ''\n",
        "\n",
        "print(dfUsusarios.head())\n",
        "print(dfExtrato.head())\n",
        "print(dfPontos.head())\n",
        "\n",
        "dfUsusarios = dfUsusarios.reset_index()\n",
        "\n",
        "def soma_pontos(user,tipo):\n",
        "   valor_lido = 0\n",
        "   valor_lido = dfPontos.loc[dfPontos['transaction_type']==tipo, 'points']\n",
        "   dfUsusarios.loc[dfUsusarios['user_id'] == user, 'pontos'] += np.int64(valor_lido)\n",
        "\n",
        "dfExtrato = dfExtrato.reset_index()\n",
        "for index, row in dfExtrato.iterrows():\n",
        "    soma_pontos(row['user_id'], row['transaction_type'])\n",
        "\n",
        "for index, row in dfUsusarios.iterrows():\n",
        "    print(row['user_id'], row['user_name'], row['pontos'], row['mensagem_email'])"
      ]
    },
    {
      "cell_type": "markdown",
      "source": [
        "## **T**ransform\n",
        "\n",
        "Utilize a API do OpenAI GPT-3.5 para gerar uma mensagem de marketing personalizada para cada usuário e prepare para envio por e-mail."
      ],
      "metadata": {
        "id": "cWoqInB4TF1x"
      }
    },
    {
      "cell_type": "code",
      "source": [
        "!pip install openai"
      ],
      "metadata": {
        "id": "O--PCAObTQkK",
        "colab": {
          "base_uri": "https://localhost:8080/"
        },
        "outputId": "84dfce7e-f0ba-42bb-decb-2eb1bf05fe8b"
      },
      "execution_count": 19,
      "outputs": [
        {
          "output_type": "stream",
          "name": "stdout",
          "text": [
            "Requirement already satisfied: openai in /usr/local/lib/python3.10/dist-packages (0.27.9)\n",
            "Requirement already satisfied: requests>=2.20 in /usr/local/lib/python3.10/dist-packages (from openai) (2.31.0)\n",
            "Requirement already satisfied: tqdm in /usr/local/lib/python3.10/dist-packages (from openai) (4.66.1)\n",
            "Requirement already satisfied: aiohttp in /usr/local/lib/python3.10/dist-packages (from openai) (3.8.5)\n",
            "Requirement already satisfied: charset-normalizer<4,>=2 in /usr/local/lib/python3.10/dist-packages (from requests>=2.20->openai) (3.2.0)\n",
            "Requirement already satisfied: idna<4,>=2.5 in /usr/local/lib/python3.10/dist-packages (from requests>=2.20->openai) (3.4)\n",
            "Requirement already satisfied: urllib3<3,>=1.21.1 in /usr/local/lib/python3.10/dist-packages (from requests>=2.20->openai) (2.0.4)\n",
            "Requirement already satisfied: certifi>=2017.4.17 in /usr/local/lib/python3.10/dist-packages (from requests>=2.20->openai) (2023.7.22)\n",
            "Requirement already satisfied: attrs>=17.3.0 in /usr/local/lib/python3.10/dist-packages (from aiohttp->openai) (23.1.0)\n",
            "Requirement already satisfied: multidict<7.0,>=4.5 in /usr/local/lib/python3.10/dist-packages (from aiohttp->openai) (6.0.4)\n",
            "Requirement already satisfied: async-timeout<5.0,>=4.0.0a3 in /usr/local/lib/python3.10/dist-packages (from aiohttp->openai) (4.0.3)\n",
            "Requirement already satisfied: yarl<2.0,>=1.0 in /usr/local/lib/python3.10/dist-packages (from aiohttp->openai) (1.9.2)\n",
            "Requirement already satisfied: frozenlist>=1.1.1 in /usr/local/lib/python3.10/dist-packages (from aiohttp->openai) (1.4.0)\n",
            "Requirement already satisfied: aiosignal>=1.1.2 in /usr/local/lib/python3.10/dist-packages (from aiohttp->openai) (1.3.1)\n"
          ]
        }
      ]
    },
    {
      "cell_type": "code",
      "source": [
        "# Documentação Oficial da API OpenAI: https://platform.openai.com/docs/api-reference/introduction\n",
        "# Informações sobre o Período Gratuito: https://help.openai.com/en/articles/4936830\n",
        "\n",
        "# Para gerar uma API Key:\n",
        "# 1. Crie uma conta na OpenAI\n",
        "# 2. Acesse a seção \"API Keys\"\n",
        "# 3. Clique em \"Create API Key\"\n",
        "# Link direto: https://platform.openai.com/account/api-keys\n",
        "\n",
        "# Substitua o texto TODO por sua API Key da OpenAI, ela será salva como uma variável de ambiente.\n",
        "openai_api_key = 'TODO'"
      ],
      "metadata": {
        "id": "sUB1doiDTX3y"
      },
      "execution_count": 20,
      "outputs": []
    },
    {
      "cell_type": "code",
      "source": [
        "import openai\n",
        "\n",
        "openai.api_key = openai_api_key\n",
        "\n",
        "def generate_ai_news(user, pontos):\n",
        "  completion = openai.ChatCompletion.create(\n",
        "    model=\"gpt-3.5-turbo\",\n",
        "    messages=[\n",
        "      {\n",
        "          \"role\": \"system\",\n",
        "          \"content\": \"Você é especialista em marketing bancário.\"\n",
        "      },\n",
        "      {\n",
        "          \"role\": \"user\",\n",
        "          \"content\": f\"Crie um e-mail para o cliente {user} que possui {pontos} pontos em nosso programa de fidelidade. Se o cliente possuir mais de 100 pontos deve ser criar uma mensagem de parabéns por ter alcançado. Se os pontos estivem entre 80 e 99, deve ser uma mensagem de estímulo. Se os pontos estivem entre 20 e 79, a mensagem deve ser de incetivo e engajamento ao programa. Se os pontos forem menor ou igual 20 a mensagem deve demonstrar as qualidades do Banco Santander e convidar o cliente para utilizar mais serviços e produtos. Deve ter no máximo de 250 caracteres e ser assinado pela equipe de marketing do Banco Santander.\"\n",
        "      }\n",
        "    ]\n",
        "  )\n",
        "  return completion.choices[0].message.content.strip('\\\"')\n",
        "\n",
        "for index, row in dfUsusarios.iterrows():\n",
        "  news = generate_ai_news(row['user_name'], row['pontos'])\n",
        "  dfUsusarios.loc[dfUsusarios['user_id'] == row['user_id'], 'mensagem_email'] = news\n",
        "  print(news)\n",
        "  print('++++++++++++++++++++++++++')\n"
      ],
      "metadata": {
        "id": "n1w78kNxTrZY",
        "colab": {
          "base_uri": "https://localhost:8080/"
        },
        "outputId": "9e5f11ac-f861-4385-fe49-0c701bc9fc65"
      },
      "execution_count": 21,
      "outputs": [
        {
          "output_type": "stream",
          "name": "stdout",
          "text": [
            "Assunto: Parabéns, Julio Cesar!\n",
            "\n",
            "Caro Julio Cesar,\n",
            "\n",
            "Parabenizamos você por ter alcançado 20 ponto(s) em nosso programa de fidelidade! Estamos ansiosos para proporcionar ainda mais vantagens e recompensas exclusivas.\n",
            "\n",
            "Continue assim e em breve alcançará novos patamares. Estamos aqui para apoiá-lo em sua jornada.\n",
            "\n",
            "Conte sempre com o Banco Santander!\n",
            "\n",
            "Atenciosamente,\n",
            "Equipe de Marketing do Banco Santander\n",
            "++++++++++++++++++++++++++\n",
            "Assunto: Parabéns pelos seus 32 pontos em nosso programa de fidelidade!\n",
            "\n",
            "Prezado Sr. Venilton Falvo Jr,\n",
            "\n",
            "Parabenizamos você por acumular 32 pontos em nosso programa de fidelidade. Continue utilizando nossos serviços e produtos e aproveite os benefícios exclusivos oferecidos.\n",
            "\n",
            "Equipe de Marketing do Banco Santander\n",
            "++++++++++++++++++++++++++\n",
            "Prezado Julio Gmail, \n",
            "\n",
            "Parabéns por alcançar 145 pontos em nosso programa de fidelidade! Continue assim e aproveite os benefícios exclusivos que preparamos para você. \n",
            "\n",
            "Atenciosamente, \n",
            "Equipe de Marketing Banco Santander\n",
            "++++++++++++++++++++++++++\n"
          ]
        }
      ]
    },
    {
      "cell_type": "markdown",
      "source": [
        "## **L**oad\n",
        "\n",
        "Percorre a lista de usuários e envia a mensagem de marketing gerada pelo ChatGPT."
      ],
      "metadata": {
        "id": "kNuP0SDUZMBY"
      }
    },
    {
      "cell_type": "code",
      "source": [
        "remetente = '***@gmail.com'\n",
        "\n",
        "import smtplib\n",
        "from email.mime.multipart import MIMEMultipart\n",
        "from email.mime.text import MIMEText\n",
        "\n",
        "# Configuração\n",
        "host = 'smtp.gmail.com'\n",
        "port = 587\n",
        "user = '***@gmail.com'\n",
        "password = 'TODO'\n",
        "\n",
        "# Criando objeto\n",
        "print('Criando objeto servidor...')\n",
        "server = smtplib.SMTP(host, port)\n",
        "\n",
        "# Login com servidor\n",
        "print('Login...')\n",
        "server.ehlo()\n",
        "server.starttls()\n",
        "server.login(user, password)\n",
        "\n",
        "for index, row in dfUsusarios.iterrows():\n",
        "  # Criando mensagem\n",
        "  message = row['mensagem_email']\n",
        "  print('Criando mensagem...')\n",
        "  email_msg = MIMEMultipart()\n",
        "  email_msg['From'] = remetente\n",
        "  email_msg['To'] = row['user_email']\n",
        "  email_msg['Subject'] = 'Santander Bootcamp 2023 - Ciência de dados com Python'\n",
        "  print('Adicionando texto...')\n",
        "  email_msg.attach(MIMEText(message, 'plain'))\n",
        "\n",
        "  # Enviando mensagem\n",
        "  print('Enviando mensagem...')\n",
        "  server.sendmail(email_msg['From'], email_msg['To'], email_msg.as_string())\n",
        "  print('Mensagem enviada!')\n",
        "\n",
        "server.quit()"
      ],
      "metadata": {
        "id": "YefWfYBoZMN2",
        "colab": {
          "base_uri": "https://localhost:8080/"
        },
        "outputId": "0b2c3144-0e1c-40b3-fa08-6f4c6f002d0d"
      },
      "execution_count": 22,
      "outputs": [
        {
          "output_type": "stream",
          "name": "stdout",
          "text": [
            "Criando objeto servidor...\n",
            "Login...\n",
            "Criando mensagem...\n",
            "Adicionando texto...\n",
            "Enviando mensagem...\n",
            "Mensagem enviada!\n",
            "Criando mensagem...\n",
            "Adicionando texto...\n",
            "Enviando mensagem...\n",
            "Mensagem enviada!\n",
            "Criando mensagem...\n",
            "Adicionando texto...\n",
            "Enviando mensagem...\n",
            "Mensagem enviada!\n"
          ]
        },
        {
          "output_type": "execute_result",
          "data": {
            "text/plain": [
              "(221,\n",
              " b'2.0.0 closing connection gw15-20020a17090b0a4f00b0026f90d7947csm7691890pjb.34 - gsmtp')"
            ]
          },
          "metadata": {},
          "execution_count": 22
        }
      ]
    }
  ]
}